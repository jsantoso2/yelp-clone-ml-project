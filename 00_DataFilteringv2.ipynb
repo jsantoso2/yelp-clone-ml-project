{
 "cells": [
  {
   "cell_type": "code",
   "execution_count": 1,
   "metadata": {},
   "outputs": [],
   "source": [
    "import pandas as pd\n",
    "import numpy as np\n",
    "import matplotlib.pyplot as plt\n",
    "import json\n",
    "import random\n",
    "\n",
    "from tqdm import tqdm\n",
    "\n",
    "from sklearn.model_selection import train_test_split"
   ]
  },
  {
   "cell_type": "markdown",
   "metadata": {},
   "source": [
    "#### Reads Dataset"
   ]
  },
  {
   "cell_type": "code",
   "execution_count": 2,
   "metadata": {},
   "outputs": [
    {
     "name": "stderr",
     "output_type": "stream",
     "text": [
      "100%|█████████████████████████████████████████████████████████████████████| 8021122/8021122 [01:32<00:00, 86337.32it/s]\n"
     ]
    }
   ],
   "source": [
    "# reads YELP reviews dataset\n",
    "line_count = len(open(\"yelp_dataset/review.json\", encoding = \"utf8\").readlines())\n",
    "user_ids, business_ids, stars, dates, text, useful, funny, cool = [], [], [], [], [], [], [], []\n",
    "\n",
    "with open(\"yelp_dataset/review.json\", encoding = \"utf8\") as f:\n",
    "    for line in tqdm(f, total=line_count):\n",
    "        blob = json.loads(line)\n",
    "        user_ids += [blob[\"user_id\"]]\n",
    "        business_ids += [blob[\"business_id\"]]\n",
    "        stars += [blob[\"stars\"]]\n",
    "        dates += [blob[\"date\"]]\n",
    "        text += [blob[\"text\"]]\n",
    "        useful += [blob[\"useful\"]]\n",
    "        funny += [blob[\"funny\"]]\n",
    "        cool += [blob[\"cool\"]]\n",
    "\n",
    "ratings = pd.DataFrame(\n",
    "    {\"user_id\": user_ids, \"business_id\": business_ids, \"text\": text, \"rating\": stars, \"date\": dates,\n",
    "     \"useful\": useful, \"funny\": funny, \"cool\": cool})"
   ]
  },
  {
   "cell_type": "code",
   "execution_count": 3,
   "metadata": {},
   "outputs": [],
   "source": [
    "# delete unused variables\n",
    "del user_ids, business_ids, stars, dates, text, useful, funny, cool"
   ]
  },
  {
   "cell_type": "code",
   "execution_count": 4,
   "metadata": {},
   "outputs": [
    {
     "data": {
      "text/html": [
       "<div>\n",
       "<style scoped>\n",
       "    .dataframe tbody tr th:only-of-type {\n",
       "        vertical-align: middle;\n",
       "    }\n",
       "\n",
       "    .dataframe tbody tr th {\n",
       "        vertical-align: top;\n",
       "    }\n",
       "\n",
       "    .dataframe thead th {\n",
       "        text-align: right;\n",
       "    }\n",
       "</style>\n",
       "<table border=\"1\" class=\"dataframe\">\n",
       "  <thead>\n",
       "    <tr style=\"text-align: right;\">\n",
       "      <th></th>\n",
       "      <th>user_id</th>\n",
       "      <th>business_id</th>\n",
       "      <th>text</th>\n",
       "      <th>rating</th>\n",
       "      <th>date</th>\n",
       "      <th>useful</th>\n",
       "      <th>funny</th>\n",
       "      <th>cool</th>\n",
       "    </tr>\n",
       "  </thead>\n",
       "  <tbody>\n",
       "    <tr>\n",
       "      <th>0</th>\n",
       "      <td>OwjRMXRC0KyPrIlcjaXeFQ</td>\n",
       "      <td>-MhfebM0QIsKt87iDN-FNw</td>\n",
       "      <td>As someone who has worked with many museums, I...</td>\n",
       "      <td>2.0</td>\n",
       "      <td>2015-04-15 05:21:16</td>\n",
       "      <td>5</td>\n",
       "      <td>0</td>\n",
       "      <td>0</td>\n",
       "    </tr>\n",
       "    <tr>\n",
       "      <th>1</th>\n",
       "      <td>nIJD_7ZXHq-FX8byPMOkMQ</td>\n",
       "      <td>lbrU8StCq3yDfr-QMnGrmQ</td>\n",
       "      <td>I am actually horrified this place is still in...</td>\n",
       "      <td>1.0</td>\n",
       "      <td>2013-12-07 03:16:52</td>\n",
       "      <td>1</td>\n",
       "      <td>1</td>\n",
       "      <td>0</td>\n",
       "    </tr>\n",
       "    <tr>\n",
       "      <th>2</th>\n",
       "      <td>V34qejxNsCbcgD8C0HVk-Q</td>\n",
       "      <td>HQl28KMwrEKHqhFrrDqVNQ</td>\n",
       "      <td>I love Deagan's. I do. I really do. The atmosp...</td>\n",
       "      <td>5.0</td>\n",
       "      <td>2015-12-05 03:18:11</td>\n",
       "      <td>1</td>\n",
       "      <td>0</td>\n",
       "      <td>0</td>\n",
       "    </tr>\n",
       "    <tr>\n",
       "      <th>3</th>\n",
       "      <td>ofKDkJKXSKZXu5xJNGiiBQ</td>\n",
       "      <td>5JxlZaqCnk1MnbgRirs40Q</td>\n",
       "      <td>Dismal, lukewarm, defrosted-tasting \"TexMex\" g...</td>\n",
       "      <td>1.0</td>\n",
       "      <td>2011-05-27 05:30:52</td>\n",
       "      <td>0</td>\n",
       "      <td>0</td>\n",
       "      <td>0</td>\n",
       "    </tr>\n",
       "    <tr>\n",
       "      <th>4</th>\n",
       "      <td>UgMW8bLE0QMJDCkQ1Ax5Mg</td>\n",
       "      <td>IS4cv902ykd8wj1TR0N3-A</td>\n",
       "      <td>Oh happy day, finally have a Canes near my cas...</td>\n",
       "      <td>4.0</td>\n",
       "      <td>2017-01-14 21:56:57</td>\n",
       "      <td>0</td>\n",
       "      <td>0</td>\n",
       "      <td>0</td>\n",
       "    </tr>\n",
       "  </tbody>\n",
       "</table>\n",
       "</div>"
      ],
      "text/plain": [
       "                  user_id             business_id  \\\n",
       "0  OwjRMXRC0KyPrIlcjaXeFQ  -MhfebM0QIsKt87iDN-FNw   \n",
       "1  nIJD_7ZXHq-FX8byPMOkMQ  lbrU8StCq3yDfr-QMnGrmQ   \n",
       "2  V34qejxNsCbcgD8C0HVk-Q  HQl28KMwrEKHqhFrrDqVNQ   \n",
       "3  ofKDkJKXSKZXu5xJNGiiBQ  5JxlZaqCnk1MnbgRirs40Q   \n",
       "4  UgMW8bLE0QMJDCkQ1Ax5Mg  IS4cv902ykd8wj1TR0N3-A   \n",
       "\n",
       "                                                text  rating  \\\n",
       "0  As someone who has worked with many museums, I...     2.0   \n",
       "1  I am actually horrified this place is still in...     1.0   \n",
       "2  I love Deagan's. I do. I really do. The atmosp...     5.0   \n",
       "3  Dismal, lukewarm, defrosted-tasting \"TexMex\" g...     1.0   \n",
       "4  Oh happy day, finally have a Canes near my cas...     4.0   \n",
       "\n",
       "                  date  useful  funny  cool  \n",
       "0  2015-04-15 05:21:16       5      0     0  \n",
       "1  2013-12-07 03:16:52       1      1     0  \n",
       "2  2015-12-05 03:18:11       1      0     0  \n",
       "3  2011-05-27 05:30:52       0      0     0  \n",
       "4  2017-01-14 21:56:57       0      0     0  "
      ]
     },
     "execution_count": 4,
     "metadata": {},
     "output_type": "execute_result"
    }
   ],
   "source": [
    "ratings.head()"
   ]
  },
  {
   "cell_type": "code",
   "execution_count": 5,
   "metadata": {},
   "outputs": [
    {
     "data": {
      "text/html": [
       "<div>\n",
       "<style scoped>\n",
       "    .dataframe tbody tr th:only-of-type {\n",
       "        vertical-align: middle;\n",
       "    }\n",
       "\n",
       "    .dataframe tbody tr th {\n",
       "        vertical-align: top;\n",
       "    }\n",
       "\n",
       "    .dataframe thead th {\n",
       "        text-align: right;\n",
       "    }\n",
       "</style>\n",
       "<table border=\"1\" class=\"dataframe\">\n",
       "  <thead>\n",
       "    <tr style=\"text-align: right;\">\n",
       "      <th></th>\n",
       "      <th>business_id</th>\n",
       "      <th>name</th>\n",
       "      <th>address</th>\n",
       "      <th>city</th>\n",
       "      <th>state</th>\n",
       "      <th>postal_code</th>\n",
       "      <th>latitude</th>\n",
       "      <th>longitude</th>\n",
       "      <th>stars</th>\n",
       "      <th>review_count</th>\n",
       "      <th>is_open</th>\n",
       "      <th>attributes</th>\n",
       "      <th>categories</th>\n",
       "      <th>hours</th>\n",
       "    </tr>\n",
       "  </thead>\n",
       "  <tbody>\n",
       "    <tr>\n",
       "      <th>0</th>\n",
       "      <td>f9NumwFMBDn751xgFiRbNA</td>\n",
       "      <td>The Range At Lake Norman</td>\n",
       "      <td>10913 Bailey Rd</td>\n",
       "      <td>Cornelius</td>\n",
       "      <td>NC</td>\n",
       "      <td>28031</td>\n",
       "      <td>35.462724</td>\n",
       "      <td>-80.852612</td>\n",
       "      <td>3.5</td>\n",
       "      <td>36</td>\n",
       "      <td>1</td>\n",
       "      <td>{'BusinessAcceptsCreditCards': 'True', 'BikePa...</td>\n",
       "      <td>Active Life, Gun/Rifle Ranges, Guns &amp; Ammo, Sh...</td>\n",
       "      <td>{'Monday': '10:0-18:0', 'Tuesday': '11:0-20:0'...</td>\n",
       "    </tr>\n",
       "    <tr>\n",
       "      <th>1</th>\n",
       "      <td>Yzvjg0SayhoZgCljUJRF9Q</td>\n",
       "      <td>Carlos Santo, NMD</td>\n",
       "      <td>8880 E Via Linda, Ste 107</td>\n",
       "      <td>Scottsdale</td>\n",
       "      <td>AZ</td>\n",
       "      <td>85258</td>\n",
       "      <td>33.569404</td>\n",
       "      <td>-111.890264</td>\n",
       "      <td>5.0</td>\n",
       "      <td>4</td>\n",
       "      <td>1</td>\n",
       "      <td>{'GoodForKids': 'True', 'ByAppointmentOnly': '...</td>\n",
       "      <td>Health &amp; Medical, Fitness &amp; Instruction, Yoga,...</td>\n",
       "      <td>None</td>\n",
       "    </tr>\n",
       "    <tr>\n",
       "      <th>2</th>\n",
       "      <td>XNoUzKckATkOD1hP6vghZg</td>\n",
       "      <td>Felinus</td>\n",
       "      <td>3554 Rue Notre-Dame O</td>\n",
       "      <td>Montreal</td>\n",
       "      <td>QC</td>\n",
       "      <td>H4C 1P4</td>\n",
       "      <td>45.479984</td>\n",
       "      <td>-73.580070</td>\n",
       "      <td>5.0</td>\n",
       "      <td>5</td>\n",
       "      <td>1</td>\n",
       "      <td>None</td>\n",
       "      <td>Pets, Pet Services, Pet Groomers</td>\n",
       "      <td>None</td>\n",
       "    </tr>\n",
       "    <tr>\n",
       "      <th>3</th>\n",
       "      <td>6OAZjbxqM5ol29BuHsil3w</td>\n",
       "      <td>Nevada House of Hose</td>\n",
       "      <td>1015 Sharp Cir</td>\n",
       "      <td>North Las Vegas</td>\n",
       "      <td>NV</td>\n",
       "      <td>89030</td>\n",
       "      <td>36.219728</td>\n",
       "      <td>-115.127725</td>\n",
       "      <td>2.5</td>\n",
       "      <td>3</td>\n",
       "      <td>0</td>\n",
       "      <td>{'BusinessAcceptsCreditCards': 'True', 'ByAppo...</td>\n",
       "      <td>Hardware Stores, Home Services, Building Suppl...</td>\n",
       "      <td>{'Monday': '7:0-16:0', 'Tuesday': '7:0-16:0', ...</td>\n",
       "    </tr>\n",
       "    <tr>\n",
       "      <th>4</th>\n",
       "      <td>51M2Kk903DFYI6gnB5I6SQ</td>\n",
       "      <td>USE MY GUY SERVICES LLC</td>\n",
       "      <td>4827 E Downing Cir</td>\n",
       "      <td>Mesa</td>\n",
       "      <td>AZ</td>\n",
       "      <td>85205</td>\n",
       "      <td>33.428065</td>\n",
       "      <td>-111.726648</td>\n",
       "      <td>4.5</td>\n",
       "      <td>26</td>\n",
       "      <td>1</td>\n",
       "      <td>{'BusinessAcceptsCreditCards': 'True', 'ByAppo...</td>\n",
       "      <td>Home Services, Plumbing, Electricians, Handyma...</td>\n",
       "      <td>{'Monday': '0:0-0:0', 'Tuesday': '9:0-16:0', '...</td>\n",
       "    </tr>\n",
       "  </tbody>\n",
       "</table>\n",
       "</div>"
      ],
      "text/plain": [
       "              business_id                      name  \\\n",
       "0  f9NumwFMBDn751xgFiRbNA  The Range At Lake Norman   \n",
       "1  Yzvjg0SayhoZgCljUJRF9Q         Carlos Santo, NMD   \n",
       "2  XNoUzKckATkOD1hP6vghZg                   Felinus   \n",
       "3  6OAZjbxqM5ol29BuHsil3w      Nevada House of Hose   \n",
       "4  51M2Kk903DFYI6gnB5I6SQ   USE MY GUY SERVICES LLC   \n",
       "\n",
       "                     address             city state postal_code   latitude  \\\n",
       "0            10913 Bailey Rd        Cornelius    NC       28031  35.462724   \n",
       "1  8880 E Via Linda, Ste 107       Scottsdale    AZ       85258  33.569404   \n",
       "2      3554 Rue Notre-Dame O         Montreal    QC     H4C 1P4  45.479984   \n",
       "3             1015 Sharp Cir  North Las Vegas    NV       89030  36.219728   \n",
       "4         4827 E Downing Cir             Mesa    AZ       85205  33.428065   \n",
       "\n",
       "    longitude  stars  review_count  is_open  \\\n",
       "0  -80.852612    3.5            36        1   \n",
       "1 -111.890264    5.0             4        1   \n",
       "2  -73.580070    5.0             5        1   \n",
       "3 -115.127725    2.5             3        0   \n",
       "4 -111.726648    4.5            26        1   \n",
       "\n",
       "                                          attributes  \\\n",
       "0  {'BusinessAcceptsCreditCards': 'True', 'BikePa...   \n",
       "1  {'GoodForKids': 'True', 'ByAppointmentOnly': '...   \n",
       "2                                               None   \n",
       "3  {'BusinessAcceptsCreditCards': 'True', 'ByAppo...   \n",
       "4  {'BusinessAcceptsCreditCards': 'True', 'ByAppo...   \n",
       "\n",
       "                                          categories  \\\n",
       "0  Active Life, Gun/Rifle Ranges, Guns & Ammo, Sh...   \n",
       "1  Health & Medical, Fitness & Instruction, Yoga,...   \n",
       "2                   Pets, Pet Services, Pet Groomers   \n",
       "3  Hardware Stores, Home Services, Building Suppl...   \n",
       "4  Home Services, Plumbing, Electricians, Handyma...   \n",
       "\n",
       "                                               hours  \n",
       "0  {'Monday': '10:0-18:0', 'Tuesday': '11:0-20:0'...  \n",
       "1                                               None  \n",
       "2                                               None  \n",
       "3  {'Monday': '7:0-16:0', 'Tuesday': '7:0-16:0', ...  \n",
       "4  {'Monday': '0:0-0:0', 'Tuesday': '9:0-16:0', '...  "
      ]
     },
     "execution_count": 5,
     "metadata": {},
     "output_type": "execute_result"
    }
   ],
   "source": [
    "# reads business dataset\n",
    "business = pd.read_json(\"yelp_dataset/business.json\", encoding = 'utf-8', lines = True)\n",
    "business.head()"
   ]
  },
  {
   "cell_type": "code",
   "execution_count": 6,
   "metadata": {},
   "outputs": [
    {
     "name": "stderr",
     "output_type": "stream",
     "text": [
      "100%|█████████████████████████████████████████████████████████████████████| 1968703/1968703 [00:40<00:00, 48918.89it/s]\n"
     ]
    }
   ],
   "source": [
    "# reads user dataset\n",
    "line_count = len(open(\"yelp_dataset/user.json\", encoding = \"utf8\").readlines())\n",
    "user_ids, name, review_count, yelping_since, friends, useful, funny, cool, fans, elite, average_stars = \\\n",
    "    [], [], [], [], [], [], [], [], [], [], []\n",
    "\n",
    "with open(\"yelp_dataset/user.json\", encoding = \"utf8\") as f:\n",
    "    for line in tqdm(f, total=line_count):\n",
    "        blob = json.loads(line)\n",
    "        user_ids += [blob[\"user_id\"]]\n",
    "        name += [blob[\"name\"]]\n",
    "        review_count += [blob[\"review_count\"]]\n",
    "        yelping_since += [blob[\"yelping_since\"]]\n",
    "        friends += [len(blob[\"friends\"])]\n",
    "        useful += [blob[\"useful\"]]\n",
    "        funny += [blob[\"funny\"]]\n",
    "        cool += [blob[\"cool\"]]\n",
    "        fans += [blob[\"fans\"]]\n",
    "        elite += [blob[\"elite\"]]\n",
    "        average_stars += [blob[\"average_stars\"]]\n",
    "\n",
    "user = pd.DataFrame(\n",
    "    {\"user_id\": user_ids, \"name\": name, \"review_count\": review_count, \"yelping_since\": yelping_since, \n",
    "     \"friends\": friends, \"useful\": useful, \"funny\": funny, \"cool\": cool, \"fans\": fans, \"elite\": elite,\n",
    "     \"average_stars\": average_stars})\n",
    "\n",
    "user_orig = user.copy()"
   ]
  },
  {
   "cell_type": "code",
   "execution_count": 7,
   "metadata": {},
   "outputs": [],
   "source": [
    "del user_ids, name, review_count, yelping_since, friends, useful, funny, cool, fans, elite, average_stars"
   ]
  },
  {
   "cell_type": "code",
   "execution_count": 8,
   "metadata": {},
   "outputs": [
    {
     "data": {
      "text/html": [
       "<div>\n",
       "<style scoped>\n",
       "    .dataframe tbody tr th:only-of-type {\n",
       "        vertical-align: middle;\n",
       "    }\n",
       "\n",
       "    .dataframe tbody tr th {\n",
       "        vertical-align: top;\n",
       "    }\n",
       "\n",
       "    .dataframe thead th {\n",
       "        text-align: right;\n",
       "    }\n",
       "</style>\n",
       "<table border=\"1\" class=\"dataframe\">\n",
       "  <thead>\n",
       "    <tr style=\"text-align: right;\">\n",
       "      <th></th>\n",
       "      <th>user_id</th>\n",
       "      <th>name</th>\n",
       "      <th>review_count</th>\n",
       "      <th>yelping_since</th>\n",
       "      <th>friends</th>\n",
       "      <th>useful</th>\n",
       "      <th>funny</th>\n",
       "      <th>cool</th>\n",
       "      <th>fans</th>\n",
       "      <th>elite</th>\n",
       "      <th>average_stars</th>\n",
       "    </tr>\n",
       "  </thead>\n",
       "  <tbody>\n",
       "    <tr>\n",
       "      <th>0</th>\n",
       "      <td>ntlvfPzc8eglqvk92iDIAw</td>\n",
       "      <td>Rafael</td>\n",
       "      <td>553</td>\n",
       "      <td>2007-07-06 03:27:11</td>\n",
       "      <td>1078</td>\n",
       "      <td>628</td>\n",
       "      <td>225</td>\n",
       "      <td>227</td>\n",
       "      <td>14</td>\n",
       "      <td></td>\n",
       "      <td>3.57</td>\n",
       "    </tr>\n",
       "    <tr>\n",
       "      <th>1</th>\n",
       "      <td>FOBRPlBHa3WPHFB5qYDlVg</td>\n",
       "      <td>Michelle</td>\n",
       "      <td>564</td>\n",
       "      <td>2008-04-28 01:29:25</td>\n",
       "      <td>5110</td>\n",
       "      <td>790</td>\n",
       "      <td>316</td>\n",
       "      <td>400</td>\n",
       "      <td>27</td>\n",
       "      <td>2008,2009,2010,2011,2012,2013</td>\n",
       "      <td>3.84</td>\n",
       "    </tr>\n",
       "    <tr>\n",
       "      <th>2</th>\n",
       "      <td>zZUnPeh2hEp0WydbAZEOOg</td>\n",
       "      <td>Martin</td>\n",
       "      <td>60</td>\n",
       "      <td>2008-08-28 23:40:05</td>\n",
       "      <td>838</td>\n",
       "      <td>151</td>\n",
       "      <td>125</td>\n",
       "      <td>103</td>\n",
       "      <td>5</td>\n",
       "      <td>2010</td>\n",
       "      <td>3.44</td>\n",
       "    </tr>\n",
       "    <tr>\n",
       "      <th>3</th>\n",
       "      <td>QaELAmRcDc5TfJEylaaP8g</td>\n",
       "      <td>John</td>\n",
       "      <td>206</td>\n",
       "      <td>2008-09-20 00:08:14</td>\n",
       "      <td>4150</td>\n",
       "      <td>233</td>\n",
       "      <td>160</td>\n",
       "      <td>84</td>\n",
       "      <td>6</td>\n",
       "      <td>2009</td>\n",
       "      <td>3.08</td>\n",
       "    </tr>\n",
       "    <tr>\n",
       "      <th>4</th>\n",
       "      <td>xvu8G900tezTzbbfqmTKvA</td>\n",
       "      <td>Anne</td>\n",
       "      <td>485</td>\n",
       "      <td>2008-08-09 00:30:27</td>\n",
       "      <td>21478</td>\n",
       "      <td>1265</td>\n",
       "      <td>400</td>\n",
       "      <td>512</td>\n",
       "      <td>78</td>\n",
       "      <td>2009,2010,2011,2012,2014,2015,2016,2017,2018</td>\n",
       "      <td>4.37</td>\n",
       "    </tr>\n",
       "  </tbody>\n",
       "</table>\n",
       "</div>"
      ],
      "text/plain": [
       "                  user_id      name  review_count        yelping_since  \\\n",
       "0  ntlvfPzc8eglqvk92iDIAw    Rafael           553  2007-07-06 03:27:11   \n",
       "1  FOBRPlBHa3WPHFB5qYDlVg  Michelle           564  2008-04-28 01:29:25   \n",
       "2  zZUnPeh2hEp0WydbAZEOOg    Martin            60  2008-08-28 23:40:05   \n",
       "3  QaELAmRcDc5TfJEylaaP8g      John           206  2008-09-20 00:08:14   \n",
       "4  xvu8G900tezTzbbfqmTKvA      Anne           485  2008-08-09 00:30:27   \n",
       "\n",
       "   friends  useful  funny  cool  fans  \\\n",
       "0     1078     628    225   227    14   \n",
       "1     5110     790    316   400    27   \n",
       "2      838     151    125   103     5   \n",
       "3     4150     233    160    84     6   \n",
       "4    21478    1265    400   512    78   \n",
       "\n",
       "                                          elite  average_stars  \n",
       "0                                                         3.57  \n",
       "1                 2008,2009,2010,2011,2012,2013           3.84  \n",
       "2                                          2010           3.44  \n",
       "3                                          2009           3.08  \n",
       "4  2009,2010,2011,2012,2014,2015,2016,2017,2018           4.37  "
      ]
     },
     "execution_count": 8,
     "metadata": {},
     "output_type": "execute_result"
    }
   ],
   "source": [
    "user.head()"
   ]
  },
  {
   "cell_type": "code",
   "execution_count": 9,
   "metadata": {},
   "outputs": [
    {
     "name": "stdout",
     "output_type": "stream",
     "text": [
      "Ratings shape:  (8021122, 8)\n",
      "Business shape:  (209393, 14)\n",
      "User shape:  (1968703, 11)\n"
     ]
    }
   ],
   "source": [
    "print('Ratings shape: ', ratings.shape)\n",
    "print('Business shape: ', business.shape)\n",
    "print('User shape: ', user.shape)"
   ]
  },
  {
   "cell_type": "markdown",
   "metadata": {},
   "source": [
    "### Filtering"
   ]
  },
  {
   "cell_type": "markdown",
   "metadata": {},
   "source": [
    "#### Filter by business first"
   ]
  },
  {
   "cell_type": "code",
   "execution_count": 10,
   "metadata": {},
   "outputs": [],
   "source": [
    "### Only US Businesses\n",
    "# Canada has 6 letter zips, US has 5 digits zips\n",
    "def find_country(x):\n",
    "    if len(x.strip()) == 5:\n",
    "        return 'US'\n",
    "    else:\n",
    "        return 'CA'\n",
    "    \n",
    "business['country'] = business['postal_code'].apply(lambda x: find_country(x)) "
   ]
  },
  {
   "cell_type": "code",
   "execution_count": 11,
   "metadata": {},
   "outputs": [
    {
     "name": "stdout",
     "output_type": "stream",
     "text": [
      "US Businesses:  153583\n",
      "CA Businesses:  55810\n",
      "% of US business:  73.34676899418797\n"
     ]
    },
    {
     "data": {
      "image/png": "[encoded data removed]",
      "text/plain": [
       "<Figure size 432x288 with 1 Axes>"
      ]
     },
     "metadata": {
      "needs_background": "light"
     },
     "output_type": "display_data"
    }
   ],
   "source": [
    "business['country'].value_counts().plot(kind = 'bar')\n",
    "plt.title('Country of Business')\n",
    "plt.xlabel('Country')\n",
    "plt.ylabel('business count');\n",
    "\n",
    "us_count = business['country'].value_counts()[0]\n",
    "ca_count = business['country'].value_counts()[1]\n",
    "print('US Businesses: ', us_count)\n",
    "print('CA Businesses: ', ca_count)\n",
    "print('% of US business: ', us_count * 100 / (us_count + ca_count))"
   ]
  },
  {
   "cell_type": "code",
   "execution_count": 12,
   "metadata": {},
   "outputs": [],
   "source": [
    "# filter only US businesses\n",
    "business = business[business['country'] == 'US']"
   ]
  },
  {
   "cell_type": "code",
   "execution_count": 13,
   "metadata": {},
   "outputs": [
    {
     "name": "stdout",
     "output_type": "stream",
     "text": [
      "Business Open:  124994\n",
      "Business Closed:  28589\n",
      "% of open business:  81.38530957202295\n"
     ]
    },
    {
     "data": {
      "image/png": "[encoded data removed]",
      "text/plain": [
       "<Figure size 432x288 with 1 Axes>"
      ]
     },
     "metadata": {
      "needs_background": "light"
     },
     "output_type": "display_data"
    }
   ],
   "source": [
    "### Open businesses\n",
    "business['is_open'].value_counts().plot(kind = 'bar')\n",
    "plt.title('Open Businesses')\n",
    "plt.xlabel('is_open')\n",
    "plt.ylabel('business count');\n",
    "\n",
    "bus_open = business['is_open'].value_counts()[1]\n",
    "bus_closed = business['is_open'].value_counts()[0]\n",
    "print('Business Open: ', bus_open)\n",
    "print('Business Closed: ', bus_closed)\n",
    "print('% of open business: ', bus_open * 100 / (bus_open + bus_closed))"
   ]
  },
  {
   "cell_type": "code",
   "execution_count": 14,
   "metadata": {},
   "outputs": [],
   "source": [
    "# filter the open businesses\n",
    "business = business[business['is_open'] == 1]"
   ]
  },
  {
   "cell_type": "code",
   "execution_count": 15,
   "metadata": {},
   "outputs": [
    {
     "name": "stdout",
     "output_type": "stream",
     "text": [
      "Businesses with less than eq 1 reviews:  0\n",
      "Businesses with less than eq 2 reviews:  0\n",
      "Businesses with less than eq 3 reviews:  18578\n",
      "Businesses with less than eq 4 reviews:  29170\n",
      "Businesses with less than eq 5 reviews:  37310\n",
      "Businesses with less than eq 6 reviews:  43946\n",
      "Businesses with less than eq 7 reviews:  49459\n",
      "Businesses with less than eq 8 reviews:  54116\n",
      "Businesses with less than eq 9 reviews:  58224\n",
      "Businesses with less than eq 10 reviews:  61875\n",
      "Businesses with less than eq 11 reviews:  65007\n",
      "Businesses with less than eq 12 reviews:  67734\n",
      "Businesses with less than eq 13 reviews:  70178\n",
      "Businesses with less than eq 14 reviews:  72385\n",
      "Businesses with less than eq 15 reviews:  74455\n",
      "Businesses with less than eq 16 reviews:  76288\n",
      "Businesses with less than eq 17 reviews:  77951\n",
      "Businesses with less than eq 18 reviews:  79578\n",
      "Businesses with less than eq 19 reviews:  81084\n",
      "Businesses with less than eq 20 reviews:  82463\n",
      "Businesses with less than eq 21 reviews:  83780\n",
      "Businesses with less than eq 22 reviews:  85014\n",
      "Businesses with less than eq 23 reviews:  86151\n",
      "Businesses with less than eq 24 reviews:  87215\n",
      "Businesses with less than eq 25 reviews:  88209\n",
      "Businesses with less than eq 26 reviews:  89179\n",
      "Businesses with less than eq 27 reviews:  90123\n",
      "Businesses with less than eq 28 reviews:  90984\n",
      "Businesses with less than eq 29 reviews:  91796\n",
      "Businesses with less than eq 30 reviews:  92577\n"
     ]
    }
   ],
   "source": [
    "### Review Count distribution\n",
    "for i in range(30):\n",
    "    temp = business[business['review_count'] <= i + 1]\n",
    "    print('Businesses with less than eq ' + str(i + 1) + ' reviews: ', temp.shape[0]) "
   ]
  },
  {
   "cell_type": "code",
   "execution_count": 16,
   "metadata": {},
   "outputs": [],
   "source": [
    "# Only take businesses with greater than 30 reviews\n",
    "business = business[business['review_count'] > 30]"
   ]
  },
  {
   "cell_type": "code",
   "execution_count": 17,
   "metadata": {},
   "outputs": [
    {
     "data": {
      "text/plain": [
       "Restaurants              15582\n",
       "Food                      6703\n",
       "Nightlife                 4222\n",
       "Bars                      3875\n",
       "Shopping                  3566\n",
       "                         ...  \n",
       "Free Diving                  1\n",
       "Neurotologists               1\n",
       "Machine & Tool Rental        1\n",
       "Vascular Medicine            1\n",
       "Street Art                   1\n",
       "Name: categories, Length: 1142, dtype: int64"
      ]
     },
     "execution_count": 17,
     "metadata": {},
     "output_type": "execute_result"
    }
   ],
   "source": [
    "### Filter \n",
    "df_explode = business.assign(categories = business.categories.str.split(', ')).explode('categories')\n",
    "df_explode.categories.value_counts()"
   ]
  },
  {
   "cell_type": "code",
   "execution_count": 18,
   "metadata": {},
   "outputs": [],
   "source": [
    "# top 100 desired categories which are restaurant/bars etc\n",
    "desired_categories = ['Restaurants', 'Food', 'Bars', 'American (Traditional)', 'Fast Food', 'Sandwiches', 'Coffee & Tea',\n",
    "                      'Breakfast & Brunch', 'Pizza', 'Burgers', 'Mexican', 'American (New)', 'Italian', 'Chinese',\n",
    "                      'Specialty Food', 'Desserts', 'Salad', 'Bakeries', 'Cafes', 'Chicken Wings', \n",
    "                      'Ice Cream & Frozen Yogurt', 'Pubs', 'Sushi Bars', 'Asian Fusion', 'Wine & Spirits', 'Beer',\n",
    "                      'Steakhouses', 'Juice Bars & Smoothies', 'Delis', 'Barbeque', 'Cocktail Bars', 'Mediterranean',\n",
    "                      'Canadian (New)', 'Diners', 'Thai', 'Wine Bars', 'Indian', 'Vietnamese', 'Vegetarian', 'Soup',\n",
    "                      'Middle Eastern', 'Tacos', 'Vegan', 'Comfort Food', 'Korean', 'Tex-Mex', 'Greek', 'Ethnic Food',\n",
    "                      'Buffets', 'Food Delivery Services', 'French', 'Donuts', 'Bubble Tea', 'Beer Bar', 'Noodles',\n",
    "                      'Food Trucks', 'Gastropubs', 'Bagels', 'Chicken Shop', 'Hot Dogs', 'Halal', 'Latin American',\n",
    "                      'Southern', 'Tapas/Small Plates', 'Caribbean', 'Tea Rooms', 'Ramen', 'Tapas Bars', 'Pakistani',\n",
    "                      'Imported Food', 'Cupcakes', 'Dim Sum', 'Fish & Chips', 'Taiwanese', 'Poke', 'Cajun/Creole',\n",
    "                      'Soul Food', 'Portuguese', 'Filipino', 'Lebanese', 'Brewpubs', 'Acai Bowls', 'Persian/Iranian',\n",
    "                      'British', 'Waffles', 'Spanish', 'Gelato', 'Falafel', 'Irish Pub', 'Cantonese', 'Brasseries',\n",
    "                      'Hot Pot', 'African', 'Turkish', 'Szechuan', 'Pan Asian', 'Kebab', 'Afghan', 'New Mexican Cuisine',\n",
    "                      'Salvadoran']"
   ]
  },
  {
   "cell_type": "code",
   "execution_count": 19,
   "metadata": {},
   "outputs": [],
   "source": [
    "# filter by desired businesses only Restaurant/Bars\n",
    "desired_bus = np.unique(df_explode[df_explode['categories'].isin(desired_categories)]['business_id'])\n",
    "business = business[business['business_id'].isin(desired_bus)]"
   ]
  },
  {
   "cell_type": "code",
   "execution_count": 20,
   "metadata": {},
   "outputs": [
    {
     "name": "stdout",
     "output_type": "stream",
     "text": [
      "Final Business Shape:  (18403, 15)\n"
     ]
    }
   ],
   "source": [
    "print('Final Business Shape: ', business.shape)"
   ]
  },
  {
   "cell_type": "markdown",
   "metadata": {},
   "source": [
    "#### Filter by ratings"
   ]
  },
  {
   "cell_type": "code",
   "execution_count": 21,
   "metadata": {},
   "outputs": [
    {
     "data": {
      "text/html": [
       "<div>\n",
       "<style scoped>\n",
       "    .dataframe tbody tr th:only-of-type {\n",
       "        vertical-align: middle;\n",
       "    }\n",
       "\n",
       "    .dataframe tbody tr th {\n",
       "        vertical-align: top;\n",
       "    }\n",
       "\n",
       "    .dataframe thead th {\n",
       "        text-align: right;\n",
       "    }\n",
       "</style>\n",
       "<table border=\"1\" class=\"dataframe\">\n",
       "  <thead>\n",
       "    <tr style=\"text-align: right;\">\n",
       "      <th></th>\n",
       "      <th>user_id</th>\n",
       "      <th>business_id</th>\n",
       "      <th>text</th>\n",
       "      <th>rating</th>\n",
       "      <th>date</th>\n",
       "      <th>useful</th>\n",
       "      <th>funny</th>\n",
       "      <th>cool</th>\n",
       "    </tr>\n",
       "  </thead>\n",
       "  <tbody>\n",
       "    <tr>\n",
       "      <th>0</th>\n",
       "      <td>OwjRMXRC0KyPrIlcjaXeFQ</td>\n",
       "      <td>-MhfebM0QIsKt87iDN-FNw</td>\n",
       "      <td>As someone who has worked with many museums, I...</td>\n",
       "      <td>2.0</td>\n",
       "      <td>2015-04-15 05:21:16</td>\n",
       "      <td>5</td>\n",
       "      <td>0</td>\n",
       "      <td>0</td>\n",
       "    </tr>\n",
       "    <tr>\n",
       "      <th>1</th>\n",
       "      <td>nIJD_7ZXHq-FX8byPMOkMQ</td>\n",
       "      <td>lbrU8StCq3yDfr-QMnGrmQ</td>\n",
       "      <td>I am actually horrified this place is still in...</td>\n",
       "      <td>1.0</td>\n",
       "      <td>2013-12-07 03:16:52</td>\n",
       "      <td>1</td>\n",
       "      <td>1</td>\n",
       "      <td>0</td>\n",
       "    </tr>\n",
       "    <tr>\n",
       "      <th>2</th>\n",
       "      <td>V34qejxNsCbcgD8C0HVk-Q</td>\n",
       "      <td>HQl28KMwrEKHqhFrrDqVNQ</td>\n",
       "      <td>I love Deagan's. I do. I really do. The atmosp...</td>\n",
       "      <td>5.0</td>\n",
       "      <td>2015-12-05 03:18:11</td>\n",
       "      <td>1</td>\n",
       "      <td>0</td>\n",
       "      <td>0</td>\n",
       "    </tr>\n",
       "    <tr>\n",
       "      <th>3</th>\n",
       "      <td>ofKDkJKXSKZXu5xJNGiiBQ</td>\n",
       "      <td>5JxlZaqCnk1MnbgRirs40Q</td>\n",
       "      <td>Dismal, lukewarm, defrosted-tasting \"TexMex\" g...</td>\n",
       "      <td>1.0</td>\n",
       "      <td>2011-05-27 05:30:52</td>\n",
       "      <td>0</td>\n",
       "      <td>0</td>\n",
       "      <td>0</td>\n",
       "    </tr>\n",
       "    <tr>\n",
       "      <th>4</th>\n",
       "      <td>UgMW8bLE0QMJDCkQ1Ax5Mg</td>\n",
       "      <td>IS4cv902ykd8wj1TR0N3-A</td>\n",
       "      <td>Oh happy day, finally have a Canes near my cas...</td>\n",
       "      <td>4.0</td>\n",
       "      <td>2017-01-14 21:56:57</td>\n",
       "      <td>0</td>\n",
       "      <td>0</td>\n",
       "      <td>0</td>\n",
       "    </tr>\n",
       "  </tbody>\n",
       "</table>\n",
       "</div>"
      ],
      "text/plain": [
       "                  user_id             business_id  \\\n",
       "0  OwjRMXRC0KyPrIlcjaXeFQ  -MhfebM0QIsKt87iDN-FNw   \n",
       "1  nIJD_7ZXHq-FX8byPMOkMQ  lbrU8StCq3yDfr-QMnGrmQ   \n",
       "2  V34qejxNsCbcgD8C0HVk-Q  HQl28KMwrEKHqhFrrDqVNQ   \n",
       "3  ofKDkJKXSKZXu5xJNGiiBQ  5JxlZaqCnk1MnbgRirs40Q   \n",
       "4  UgMW8bLE0QMJDCkQ1Ax5Mg  IS4cv902ykd8wj1TR0N3-A   \n",
       "\n",
       "                                                text  rating  \\\n",
       "0  As someone who has worked with many museums, I...     2.0   \n",
       "1  I am actually horrified this place is still in...     1.0   \n",
       "2  I love Deagan's. I do. I really do. The atmosp...     5.0   \n",
       "3  Dismal, lukewarm, defrosted-tasting \"TexMex\" g...     1.0   \n",
       "4  Oh happy day, finally have a Canes near my cas...     4.0   \n",
       "\n",
       "                  date  useful  funny  cool  \n",
       "0  2015-04-15 05:21:16       5      0     0  \n",
       "1  2013-12-07 03:16:52       1      1     0  \n",
       "2  2015-12-05 03:18:11       1      0     0  \n",
       "3  2011-05-27 05:30:52       0      0     0  \n",
       "4  2017-01-14 21:56:57       0      0     0  "
      ]
     },
     "execution_count": 21,
     "metadata": {},
     "output_type": "execute_result"
    }
   ],
   "source": [
    "ratings.head()"
   ]
  },
  {
   "cell_type": "code",
   "execution_count": 22,
   "metadata": {},
   "outputs": [],
   "source": [
    "# filter by our our filtered business\n",
    "ratings = ratings[ratings['business_id'].isin(business['business_id'])]\n",
    "\n",
    "# copy so that we can write database to firebase\n",
    "ratings_orig = ratings.copy()"
   ]
  },
  {
   "cell_type": "code",
   "execution_count": 23,
   "metadata": {},
   "outputs": [
    {
     "data": {
      "text/html": [
       "<div>\n",
       "<style scoped>\n",
       "    .dataframe tbody tr th:only-of-type {\n",
       "        vertical-align: middle;\n",
       "    }\n",
       "\n",
       "    .dataframe tbody tr th {\n",
       "        vertical-align: top;\n",
       "    }\n",
       "\n",
       "    .dataframe thead th {\n",
       "        text-align: right;\n",
       "    }\n",
       "</style>\n",
       "<table border=\"1\" class=\"dataframe\">\n",
       "  <thead>\n",
       "    <tr style=\"text-align: right;\">\n",
       "      <th></th>\n",
       "      <th>user_id</th>\n",
       "    </tr>\n",
       "  </thead>\n",
       "  <tbody>\n",
       "    <tr>\n",
       "      <th>ELcQDlf69kb-ihJfxZyL0A</th>\n",
       "      <td>1330</td>\n",
       "    </tr>\n",
       "    <tr>\n",
       "      <th>bLbSNkLggFnqwNNzzq-Ijw</th>\n",
       "      <td>1307</td>\n",
       "    </tr>\n",
       "    <tr>\n",
       "      <th>U4INQZOPSUaj8hMjLlZ3KA</th>\n",
       "      <td>1029</td>\n",
       "    </tr>\n",
       "    <tr>\n",
       "      <th>PKEzKWv_FktMm2mGPjwd0Q</th>\n",
       "      <td>953</td>\n",
       "    </tr>\n",
       "    <tr>\n",
       "      <th>DK57YibC5ShBmqQl97CKog</th>\n",
       "      <td>930</td>\n",
       "    </tr>\n",
       "    <tr>\n",
       "      <th>...</th>\n",
       "      <td>...</td>\n",
       "    </tr>\n",
       "    <tr>\n",
       "      <th>ya2KkutVSJkFPAX8tpxdpA</th>\n",
       "      <td>1</td>\n",
       "    </tr>\n",
       "    <tr>\n",
       "      <th>8s9ozU8of1KDF9WcCLtbjg</th>\n",
       "      <td>1</td>\n",
       "    </tr>\n",
       "    <tr>\n",
       "      <th>sig4MM0CxzkZLKzdcV1FIA</th>\n",
       "      <td>1</td>\n",
       "    </tr>\n",
       "    <tr>\n",
       "      <th>LdR2GNF3QsZ_UcX2PQjHlg</th>\n",
       "      <td>1</td>\n",
       "    </tr>\n",
       "    <tr>\n",
       "      <th>Pt8BasRlNuqTDg8LbxwdJQ</th>\n",
       "      <td>1</td>\n",
       "    </tr>\n",
       "  </tbody>\n",
       "</table>\n",
       "<p>1135535 rows × 1 columns</p>\n",
       "</div>"
      ],
      "text/plain": [
       "                        user_id\n",
       "ELcQDlf69kb-ihJfxZyL0A     1330\n",
       "bLbSNkLggFnqwNNzzq-Ijw     1307\n",
       "U4INQZOPSUaj8hMjLlZ3KA     1029\n",
       "PKEzKWv_FktMm2mGPjwd0Q      953\n",
       "DK57YibC5ShBmqQl97CKog      930\n",
       "...                         ...\n",
       "ya2KkutVSJkFPAX8tpxdpA        1\n",
       "8s9ozU8of1KDF9WcCLtbjg        1\n",
       "sig4MM0CxzkZLKzdcV1FIA        1\n",
       "LdR2GNF3QsZ_UcX2PQjHlg        1\n",
       "Pt8BasRlNuqTDg8LbxwdJQ        1\n",
       "\n",
       "[1135535 rows x 1 columns]"
      ]
     },
     "execution_count": 23,
     "metadata": {},
     "output_type": "execute_result"
    }
   ],
   "source": [
    "# group by review count by users\n",
    "user_counts = pd.DataFrame(ratings['user_id'].value_counts())\n",
    "user_counts"
   ]
  },
  {
   "cell_type": "code",
   "execution_count": 24,
   "metadata": {},
   "outputs": [
    {
     "name": "stdout",
     "output_type": "stream",
     "text": [
      "Users with with less than eq 1 reviews:  648088\n",
      "Users with with less than eq 2 reviews:  837281\n",
      "Users with with less than eq 3 reviews:  926837\n",
      "Users with with less than eq 4 reviews:  978954\n",
      "Users with with less than eq 5 reviews:  1012130\n",
      "Users with with less than eq 6 reviews:  1035367\n",
      "Users with with less than eq 7 reviews:  1052110\n",
      "Users with with less than eq 8 reviews:  1064664\n",
      "Users with with less than eq 9 reviews:  1074281\n",
      "Users with with less than eq 10 reviews:  1082019\n",
      "Users with with less than eq 11 reviews:  1088307\n",
      "Users with with less than eq 12 reviews:  1093454\n",
      "Users with with less than eq 13 reviews:  1097668\n",
      "Users with with less than eq 14 reviews:  1101284\n",
      "Users with with less than eq 15 reviews:  1104276\n",
      "Users with with less than eq 16 reviews:  1106925\n",
      "Users with with less than eq 17 reviews:  1109200\n",
      "Users with with less than eq 18 reviews:  1111107\n",
      "Users with with less than eq 19 reviews:  1112882\n",
      "Users with with less than eq 20 reviews:  1114436\n",
      "Users with with less than eq 21 reviews:  1115824\n",
      "Users with with less than eq 22 reviews:  1117060\n",
      "Users with with less than eq 23 reviews:  1118173\n",
      "Users with with less than eq 24 reviews:  1119185\n",
      "Users with with less than eq 25 reviews:  1120107\n",
      "Users with with less than eq 26 reviews:  1120935\n",
      "Users with with less than eq 27 reviews:  1121717\n",
      "Users with with less than eq 28 reviews:  1122445\n",
      "Users with with less than eq 29 reviews:  1123067\n",
      "Users with with less than eq 30 reviews:  1123644\n"
     ]
    }
   ],
   "source": [
    "### User Review Count distribution\n",
    "for i in range(30):\n",
    "    print('Users with with less than eq ' + str(i + 1) + ' reviews: ', \n",
    "          user_counts[user_counts['user_id'] <= (i+1)].shape[0]) "
   ]
  },
  {
   "cell_type": "code",
   "execution_count": 25,
   "metadata": {},
   "outputs": [],
   "source": [
    "# just take those who have more than 30 reviews to simplify dataset\n",
    "desired_user = list(user_counts[user_counts['user_id'] > 30].index)\n",
    "ratings = ratings[ratings['user_id'].isin(desired_user)]"
   ]
  },
  {
   "cell_type": "code",
   "execution_count": 26,
   "metadata": {},
   "outputs": [
    {
     "name": "stdout",
     "output_type": "stream",
     "text": [
      "Business with with less than eq 1 reviews:  64\n",
      "Business with with less than eq 2 reviews:  191\n",
      "Business with with less than eq 3 reviews:  436\n",
      "Business with with less than eq 4 reviews:  773\n",
      "Business with with less than eq 5 reviews:  1198\n",
      "Business with with less than eq 6 reviews:  1676\n",
      "Business with with less than eq 7 reviews:  2195\n",
      "Business with with less than eq 8 reviews:  2812\n",
      "Business with with less than eq 9 reviews:  3385\n",
      "Business with with less than eq 10 reviews:  3952\n",
      "Business with with less than eq 11 reviews:  4512\n",
      "Business with with less than eq 12 reviews:  5069\n",
      "Business with with less than eq 13 reviews:  5550\n",
      "Business with with less than eq 14 reviews:  6051\n",
      "Business with with less than eq 15 reviews:  6499\n",
      "Business with with less than eq 16 reviews:  6941\n",
      "Business with with less than eq 17 reviews:  7357\n",
      "Business with with less than eq 18 reviews:  7750\n",
      "Business with with less than eq 19 reviews:  8155\n",
      "Business with with less than eq 20 reviews:  8512\n",
      "Business with with less than eq 21 reviews:  8830\n",
      "Business with with less than eq 22 reviews:  9154\n",
      "Business with with less than eq 23 reviews:  9445\n",
      "Business with with less than eq 24 reviews:  9712\n",
      "Business with with less than eq 25 reviews:  10001\n",
      "Business with with less than eq 26 reviews:  10227\n",
      "Business with with less than eq 27 reviews:  10472\n",
      "Business with with less than eq 28 reviews:  10717\n",
      "Business with with less than eq 29 reviews:  10938\n",
      "Business with with less than eq 30 reviews:  11139\n"
     ]
    }
   ],
   "source": [
    "### filter again by business review counts\n",
    "temp = pd.DataFrame(ratings['business_id'].value_counts())\n",
    "\n",
    "### Business Review Count distribution\n",
    "for i in range(30):\n",
    "    print('Business with with less than eq ' + str(i + 1) + ' reviews: ', \n",
    "          temp[temp['business_id'] <= (i+1)].shape[0]) "
   ]
  },
  {
   "cell_type": "code",
   "execution_count": 27,
   "metadata": {},
   "outputs": [],
   "source": [
    "desired_business = list(temp[temp['business_id'] > 30].index)\n",
    "ratings = ratings[ratings['business_id'].isin(desired_business)]"
   ]
  },
  {
   "cell_type": "code",
   "execution_count": 28,
   "metadata": {},
   "outputs": [
    {
     "data": {
      "text/plain": [
       "(609288, 8)"
      ]
     },
     "execution_count": 28,
     "metadata": {},
     "output_type": "execute_result"
    }
   ],
   "source": [
    "ratings.shape"
   ]
  },
  {
   "cell_type": "code",
   "execution_count": 29,
   "metadata": {},
   "outputs": [
    {
     "data": {
      "text/plain": [
       "4.0    216471\n",
       "5.0    216063\n",
       "3.0    103884\n",
       "2.0     45514\n",
       "1.0     27356\n",
       "Name: rating, dtype: int64"
      ]
     },
     "execution_count": 29,
     "metadata": {},
     "output_type": "execute_result"
    }
   ],
   "source": [
    "ratings['rating'].value_counts()"
   ]
  },
  {
   "cell_type": "code",
   "execution_count": 30,
   "metadata": {},
   "outputs": [],
   "source": [
    "# filter user data only found in ratings\n",
    "user = user[user['user_id'].isin(ratings['user_id'])]"
   ]
  },
  {
   "cell_type": "markdown",
   "metadata": {},
   "source": [
    "### Subsample Dataset"
   ]
  },
  {
   "cell_type": "code",
   "execution_count": 31,
   "metadata": {},
   "outputs": [
    {
     "name": "stdout",
     "output_type": "stream",
     "text": [
      "Final Ratings Shape:  (609288, 8)\n",
      "Final Business Shape:  (18403, 15)\n",
      "Final User Shape:  (11890, 11)\n"
     ]
    }
   ],
   "source": [
    "print('Final Ratings Shape: ', ratings.shape)\n",
    "print('Final Business Shape: ', business.shape)\n",
    "print('Final User Shape: ', user.shape)"
   ]
  },
  {
   "cell_type": "code",
   "execution_count": 32,
   "metadata": {},
   "outputs": [],
   "source": [
    "# reset the index\n",
    "ratings = ratings.reset_index(drop = True)\n",
    "business = business.reset_index(drop = True)\n",
    "user = user.reset_index(drop = True)"
   ]
  },
  {
   "cell_type": "code",
   "execution_count": 33,
   "metadata": {},
   "outputs": [],
   "source": [
    "subsample_index = []\n",
    "\n",
    "# set seed\n",
    "random.seed(42)\n",
    "\n",
    "# number to subsample from each class\n",
    "num_samples = 20000\n",
    "\n",
    "# subsample\n",
    "for i in range(5):\n",
    "    curr_rat_idx = list(ratings[ratings['rating'] == i+1].index)\n",
    "    sampling = random.sample(curr_rat_idx, num_samples)\n",
    "    subsample_index.extend(sampling)"
   ]
  },
  {
   "cell_type": "code",
   "execution_count": 34,
   "metadata": {},
   "outputs": [],
   "source": [
    "# filter the ratings to take only the subsampled indexes\n",
    "ratings = ratings[ratings.index.isin(subsample_index)]"
   ]
  },
  {
   "cell_type": "code",
   "execution_count": 35,
   "metadata": {},
   "outputs": [
    {
     "data": {
      "text/html": [
       "<div>\n",
       "<style scoped>\n",
       "    .dataframe tbody tr th:only-of-type {\n",
       "        vertical-align: middle;\n",
       "    }\n",
       "\n",
       "    .dataframe tbody tr th {\n",
       "        vertical-align: top;\n",
       "    }\n",
       "\n",
       "    .dataframe thead th {\n",
       "        text-align: right;\n",
       "    }\n",
       "</style>\n",
       "<table border=\"1\" class=\"dataframe\">\n",
       "  <thead>\n",
       "    <tr style=\"text-align: right;\">\n",
       "      <th></th>\n",
       "      <th>user_id</th>\n",
       "      <th>business_id</th>\n",
       "      <th>text</th>\n",
       "      <th>rating</th>\n",
       "      <th>date</th>\n",
       "      <th>useful</th>\n",
       "      <th>funny</th>\n",
       "      <th>cool</th>\n",
       "    </tr>\n",
       "  </thead>\n",
       "  <tbody>\n",
       "    <tr>\n",
       "      <th>8</th>\n",
       "      <td>ffMc-TmUUhEbj5LLNILB4A</td>\n",
       "      <td>4ZbRwCB9oGibxK21MUZKHA</td>\n",
       "      <td>I went into this store yesterday and it was ho...</td>\n",
       "      <td>1.0</td>\n",
       "      <td>2018-08-04 22:27:08</td>\n",
       "      <td>1</td>\n",
       "      <td>0</td>\n",
       "      <td>0</td>\n",
       "    </tr>\n",
       "    <tr>\n",
       "      <th>33</th>\n",
       "      <td>YpGt3hdq5adPlEFn9fQ2Zw</td>\n",
       "      <td>xzj6q131hJE59tBkhe3Gag</td>\n",
       "      <td>A real cozy spot to grab some Greek. \\n\\nIt's ...</td>\n",
       "      <td>4.0</td>\n",
       "      <td>2016-10-13 21:19:20</td>\n",
       "      <td>7</td>\n",
       "      <td>5</td>\n",
       "      <td>5</td>\n",
       "    </tr>\n",
       "    <tr>\n",
       "      <th>40</th>\n",
       "      <td>SS3sFA9ksCT9bjocM3Wbug</td>\n",
       "      <td>ID5wWJ9C7G0hfbQilvlfxA</td>\n",
       "      <td>I've been here several times over the last 3 y...</td>\n",
       "      <td>1.0</td>\n",
       "      <td>2017-04-07 22:23:58</td>\n",
       "      <td>0</td>\n",
       "      <td>0</td>\n",
       "      <td>0</td>\n",
       "    </tr>\n",
       "    <tr>\n",
       "      <th>42</th>\n",
       "      <td>ArAyrioD75AC01DF-Jo1DQ</td>\n",
       "      <td>d_q4avZYM1sOlQP7noJKVg</td>\n",
       "      <td>After hearing about people rave about this pla...</td>\n",
       "      <td>1.0</td>\n",
       "      <td>2018-08-04 20:32:30</td>\n",
       "      <td>0</td>\n",
       "      <td>0</td>\n",
       "      <td>0</td>\n",
       "    </tr>\n",
       "    <tr>\n",
       "      <th>44</th>\n",
       "      <td>YcaZNr4HQ5f3ihajDQQLJw</td>\n",
       "      <td>5eV8oUGdBXylwB7HeaDFOA</td>\n",
       "      <td>Absolutely FANTASTIC!!!! The service was a+++!...</td>\n",
       "      <td>5.0</td>\n",
       "      <td>2017-07-08 17:21:45</td>\n",
       "      <td>0</td>\n",
       "      <td>0</td>\n",
       "      <td>0</td>\n",
       "    </tr>\n",
       "  </tbody>\n",
       "</table>\n",
       "</div>"
      ],
      "text/plain": [
       "                   user_id             business_id  \\\n",
       "8   ffMc-TmUUhEbj5LLNILB4A  4ZbRwCB9oGibxK21MUZKHA   \n",
       "33  YpGt3hdq5adPlEFn9fQ2Zw  xzj6q131hJE59tBkhe3Gag   \n",
       "40  SS3sFA9ksCT9bjocM3Wbug  ID5wWJ9C7G0hfbQilvlfxA   \n",
       "42  ArAyrioD75AC01DF-Jo1DQ  d_q4avZYM1sOlQP7noJKVg   \n",
       "44  YcaZNr4HQ5f3ihajDQQLJw  5eV8oUGdBXylwB7HeaDFOA   \n",
       "\n",
       "                                                 text  rating  \\\n",
       "8   I went into this store yesterday and it was ho...     1.0   \n",
       "33  A real cozy spot to grab some Greek. \\n\\nIt's ...     4.0   \n",
       "40  I've been here several times over the last 3 y...     1.0   \n",
       "42  After hearing about people rave about this pla...     1.0   \n",
       "44  Absolutely FANTASTIC!!!! The service was a+++!...     5.0   \n",
       "\n",
       "                   date  useful  funny  cool  \n",
       "8   2018-08-04 22:27:08       1      0     0  \n",
       "33  2016-10-13 21:19:20       7      5     5  \n",
       "40  2017-04-07 22:23:58       0      0     0  \n",
       "42  2018-08-04 20:32:30       0      0     0  \n",
       "44  2017-07-08 17:21:45       0      0     0  "
      ]
     },
     "execution_count": 35,
     "metadata": {},
     "output_type": "execute_result"
    }
   ],
   "source": [
    "ratings.head()"
   ]
  },
  {
   "cell_type": "code",
   "execution_count": 36,
   "metadata": {},
   "outputs": [],
   "source": [
    "# reset rating index\n",
    "ratings = ratings.reset_index(drop = True)"
   ]
  },
  {
   "cell_type": "code",
   "execution_count": 37,
   "metadata": {},
   "outputs": [],
   "source": [
    "# store labels\n",
    "labels = ratings['rating']\n",
    "\n",
    "# drop unneeded columns\n",
    "ratings.drop(['date', 'rating', 'useful', 'funny', 'cool'], axis = 1, inplace = True)"
   ]
  },
  {
   "cell_type": "code",
   "execution_count": 38,
   "metadata": {},
   "outputs": [],
   "source": [
    "# perform train test splits\n",
    "X_train, X_test, y_train, y_test = train_test_split(ratings, labels, test_size=0.1, random_state=42)"
   ]
  },
  {
   "cell_type": "code",
   "execution_count": 39,
   "metadata": {},
   "outputs": [
    {
     "name": "stderr",
     "output_type": "stream",
     "text": [
      "C:\\ProgramData\\Anaconda3\\lib\\site-packages\\ipykernel_launcher.py:2: SettingWithCopyWarning: \n",
      "A value is trying to be set on a copy of a slice from a DataFrame.\n",
      "Try using .loc[row_indexer,col_indexer] = value instead\n",
      "\n",
      "See the caveats in the documentation: https://pandas.pydata.org/pandas-docs/stable/user_guide/indexing.html#returning-a-view-versus-a-copy\n",
      "  \n",
      "C:\\ProgramData\\Anaconda3\\lib\\site-packages\\ipykernel_launcher.py:3: SettingWithCopyWarning: \n",
      "A value is trying to be set on a copy of a slice from a DataFrame.\n",
      "Try using .loc[row_indexer,col_indexer] = value instead\n",
      "\n",
      "See the caveats in the documentation: https://pandas.pydata.org/pandas-docs/stable/user_guide/indexing.html#returning-a-view-versus-a-copy\n",
      "  This is separate from the ipykernel package so we can avoid doing imports until\n"
     ]
    }
   ],
   "source": [
    "# join back to dataset\n",
    "X_train['rating'] = y_train\n",
    "X_test['rating'] = y_test"
   ]
  },
  {
   "cell_type": "code",
   "execution_count": 40,
   "metadata": {},
   "outputs": [
    {
     "data": {
      "text/html": [
       "<div>\n",
       "<style scoped>\n",
       "    .dataframe tbody tr th:only-of-type {\n",
       "        vertical-align: middle;\n",
       "    }\n",
       "\n",
       "    .dataframe tbody tr th {\n",
       "        vertical-align: top;\n",
       "    }\n",
       "\n",
       "    .dataframe thead th {\n",
       "        text-align: right;\n",
       "    }\n",
       "</style>\n",
       "<table border=\"1\" class=\"dataframe\">\n",
       "  <thead>\n",
       "    <tr style=\"text-align: right;\">\n",
       "      <th></th>\n",
       "      <th>user_id</th>\n",
       "      <th>business_id</th>\n",
       "      <th>text</th>\n",
       "      <th>rating</th>\n",
       "    </tr>\n",
       "  </thead>\n",
       "  <tbody>\n",
       "    <tr>\n",
       "      <th>51994</th>\n",
       "      <td>fpwNTbqB1vNtII-Hz0Eh4w</td>\n",
       "      <td>l4pAkHCVUKAcDvo-iNSbYA</td>\n",
       "      <td>First time here and first time trying poke. Mu...</td>\n",
       "      <td>5.0</td>\n",
       "    </tr>\n",
       "    <tr>\n",
       "      <th>77540</th>\n",
       "      <td>HiG6LXRmD42EPsLG7IpDMA</td>\n",
       "      <td>XxXmyN3tlroRQ1SOoSXHAA</td>\n",
       "      <td>2nd review for what used to be one of our favo...</td>\n",
       "      <td>1.0</td>\n",
       "    </tr>\n",
       "    <tr>\n",
       "      <th>16382</th>\n",
       "      <td>EgUGBGTJUvFJgHyFwgpD1w</td>\n",
       "      <td>wu5nk3pY1e_ou_Le_U52Sw</td>\n",
       "      <td>I love Cheba Hut it's definitely my go-to for ...</td>\n",
       "      <td>4.0</td>\n",
       "    </tr>\n",
       "    <tr>\n",
       "      <th>83439</th>\n",
       "      <td>KxGeqg5ccByhaZfQRI4Nnw</td>\n",
       "      <td>M5gj8a6Qtjy06lh3L5zUqA</td>\n",
       "      <td>Great old-school Resort in the Phoenix Paradis...</td>\n",
       "      <td>5.0</td>\n",
       "    </tr>\n",
       "    <tr>\n",
       "      <th>61618</th>\n",
       "      <td>_jYEC7fvqTxu5R2jhk_NDQ</td>\n",
       "      <td>eS29S_06lvsDW04wVrIVxg</td>\n",
       "      <td>Well...the guacamole's good.  That's about all...</td>\n",
       "      <td>2.0</td>\n",
       "    </tr>\n",
       "  </tbody>\n",
       "</table>\n",
       "</div>"
      ],
      "text/plain": [
       "                      user_id             business_id  \\\n",
       "51994  fpwNTbqB1vNtII-Hz0Eh4w  l4pAkHCVUKAcDvo-iNSbYA   \n",
       "77540  HiG6LXRmD42EPsLG7IpDMA  XxXmyN3tlroRQ1SOoSXHAA   \n",
       "16382  EgUGBGTJUvFJgHyFwgpD1w  wu5nk3pY1e_ou_Le_U52Sw   \n",
       "83439  KxGeqg5ccByhaZfQRI4Nnw  M5gj8a6Qtjy06lh3L5zUqA   \n",
       "61618  _jYEC7fvqTxu5R2jhk_NDQ  eS29S_06lvsDW04wVrIVxg   \n",
       "\n",
       "                                                    text  rating  \n",
       "51994  First time here and first time trying poke. Mu...     5.0  \n",
       "77540  2nd review for what used to be one of our favo...     1.0  \n",
       "16382  I love Cheba Hut it's definitely my go-to for ...     4.0  \n",
       "83439  Great old-school Resort in the Phoenix Paradis...     5.0  \n",
       "61618  Well...the guacamole's good.  That's about all...     2.0  "
      ]
     },
     "execution_count": 40,
     "metadata": {},
     "output_type": "execute_result"
    }
   ],
   "source": [
    "X_train.head()"
   ]
  },
  {
   "cell_type": "code",
   "execution_count": 41,
   "metadata": {},
   "outputs": [],
   "source": [
    "training = {}\n",
    "test = {}\n",
    "\n",
    "# enumerate training\n",
    "for i in range(X_train.shape[0]):\n",
    "    training[str(i)] = {'user_id': X_train.iloc[i,0],\n",
    "                        'business_id': X_train.iloc[i,1],\n",
    "                        'text': X_train.iloc[i,2],\n",
    "                        'rating': X_train.iloc[i,3]}\n",
    "\n",
    "# enumerate testing\n",
    "for i in range(X_test.shape[0]):\n",
    "    test[str(i)] = {'user_id': X_test.iloc[i,0],\n",
    "                        'business_id': X_test.iloc[i,1],\n",
    "                        'text': X_test.iloc[i,2],\n",
    "                        'rating': X_test.iloc[i,3]}    "
   ]
  },
  {
   "cell_type": "code",
   "execution_count": 42,
   "metadata": {},
   "outputs": [],
   "source": [
    "# write to file\n",
    "with open('dataset/train.json', 'w') as fp:\n",
    "    json.dump(training, fp, indent = 4)\n",
    "with open('dataset/test.json', 'w') as fp:\n",
    "    json.dump(test, fp, indent = 4)"
   ]
  },
  {
   "cell_type": "code",
   "execution_count": 43,
   "metadata": {},
   "outputs": [],
   "source": [
    "# write small file\n",
    "train_small = {}\n",
    "test_small = {}\n",
    "\n",
    "for i in range(10000):\n",
    "    train_small[str(i)] = training[str(i)]\n",
    "\n",
    "for i in range(1000):\n",
    "    test_small[str(i)] = test[str(i)]\n",
    "\n",
    "# write to file\n",
    "with open('dataset/train_small.json', 'w') as fp:\n",
    "    json.dump(train_small, fp, indent = 4)\n",
    "with open('dataset/test_small.json', 'w') as fp:\n",
    "    json.dump(test_small, fp, indent = 4)"
   ]
  },
  {
   "cell_type": "code",
   "execution_count": null,
   "metadata": {},
   "outputs": [],
   "source": []
  },
  {
   "cell_type": "markdown",
   "metadata": {},
   "source": [
    "### Write data for firebase. (use ratings_orig)"
   ]
  },
  {
   "cell_type": "code",
   "execution_count": 44,
   "metadata": {},
   "outputs": [
    {
     "data": {
      "text/html": [
       "<div>\n",
       "<style scoped>\n",
       "    .dataframe tbody tr th:only-of-type {\n",
       "        vertical-align: middle;\n",
       "    }\n",
       "\n",
       "    .dataframe tbody tr th {\n",
       "        vertical-align: top;\n",
       "    }\n",
       "\n",
       "    .dataframe thead th {\n",
       "        text-align: right;\n",
       "    }\n",
       "</style>\n",
       "<table border=\"1\" class=\"dataframe\">\n",
       "  <thead>\n",
       "    <tr style=\"text-align: right;\">\n",
       "      <th></th>\n",
       "      <th>business_id</th>\n",
       "      <th>name</th>\n",
       "      <th>address</th>\n",
       "      <th>city</th>\n",
       "      <th>state</th>\n",
       "      <th>postal_code</th>\n",
       "      <th>latitude</th>\n",
       "      <th>longitude</th>\n",
       "      <th>stars</th>\n",
       "      <th>review_count</th>\n",
       "      <th>is_open</th>\n",
       "      <th>attributes</th>\n",
       "      <th>categories</th>\n",
       "      <th>hours</th>\n",
       "      <th>country</th>\n",
       "    </tr>\n",
       "  </thead>\n",
       "  <tbody>\n",
       "    <tr>\n",
       "      <th>0</th>\n",
       "      <td>Mmd5WDFq9hHcQ3uClngGjQ</td>\n",
       "      <td>Irene's Tap Room</td>\n",
       "      <td>1227 E Northern Ave</td>\n",
       "      <td>Phoenix</td>\n",
       "      <td>AZ</td>\n",
       "      <td>85020</td>\n",
       "      <td>33.552790</td>\n",
       "      <td>-112.055400</td>\n",
       "      <td>4.5</td>\n",
       "      <td>79</td>\n",
       "      <td>1</td>\n",
       "      <td>{'WiFi': 'u'free'', 'NoiseLevel': 'u'average''...</td>\n",
       "      <td>Bars, Arts &amp; Entertainment, Nightlife, Music V...</td>\n",
       "      <td>{'Monday': '0:0-0:0', 'Tuesday': '15:0-0:0', '...</td>\n",
       "      <td>US</td>\n",
       "    </tr>\n",
       "    <tr>\n",
       "      <th>1</th>\n",
       "      <td>ZkzutF0P_u0C0yTulwaHkA</td>\n",
       "      <td>Lelulos Pizzeria</td>\n",
       "      <td>311 Unity Center Rd</td>\n",
       "      <td>Plum</td>\n",
       "      <td>PA</td>\n",
       "      <td>15239</td>\n",
       "      <td>40.489996</td>\n",
       "      <td>-79.779288</td>\n",
       "      <td>4.0</td>\n",
       "      <td>31</td>\n",
       "      <td>1</td>\n",
       "      <td>{'RestaurantsPriceRange2': '1', 'BusinessAccep...</td>\n",
       "      <td>Restaurants, Pizza</td>\n",
       "      <td>{'Monday': '0:0-0:0', 'Tuesday': '11:0-21:0', ...</td>\n",
       "      <td>US</td>\n",
       "    </tr>\n",
       "    <tr>\n",
       "      <th>2</th>\n",
       "      <td>7j0kor_fkeYhyEpXh4OpnQ</td>\n",
       "      <td>Scramblers - Strongsville</td>\n",
       "      <td>16726 Pearl Rd</td>\n",
       "      <td>Strongsville</td>\n",
       "      <td>OH</td>\n",
       "      <td>44136</td>\n",
       "      <td>41.295689</td>\n",
       "      <td>-81.835722</td>\n",
       "      <td>3.5</td>\n",
       "      <td>81</td>\n",
       "      <td>1</td>\n",
       "      <td>{'BusinessAcceptsCreditCards': 'True', 'Ambien...</td>\n",
       "      <td>Breakfast &amp; Brunch, Restaurants, American (Tra...</td>\n",
       "      <td>{'Monday': '6:30-15:0', 'Tuesday': '6:30-15:0'...</td>\n",
       "      <td>US</td>\n",
       "    </tr>\n",
       "    <tr>\n",
       "      <th>3</th>\n",
       "      <td>j9bWpCRwpDVfwVT_V85qeA</td>\n",
       "      <td>Papaya Thai</td>\n",
       "      <td>2706 E University Dr</td>\n",
       "      <td>Mesa</td>\n",
       "      <td>AZ</td>\n",
       "      <td>85213</td>\n",
       "      <td>33.423705</td>\n",
       "      <td>-111.772890</td>\n",
       "      <td>2.5</td>\n",
       "      <td>130</td>\n",
       "      <td>1</td>\n",
       "      <td>{'Caters': 'False', 'OutdoorSeating': 'False',...</td>\n",
       "      <td>Food, Ethnic Food, Specialty Food, Restaurants...</td>\n",
       "      <td>{'Monday': '11:0-21:0', 'Tuesday': '11:0-21:0'...</td>\n",
       "      <td>US</td>\n",
       "    </tr>\n",
       "    <tr>\n",
       "      <th>4</th>\n",
       "      <td>MTx-Zdl_KcU_z9G832XAjg</td>\n",
       "      <td>Taco Bell</td>\n",
       "      <td>8033 N Durango Dr</td>\n",
       "      <td>Las Vegas</td>\n",
       "      <td>NV</td>\n",
       "      <td>89131</td>\n",
       "      <td>36.307495</td>\n",
       "      <td>-115.279059</td>\n",
       "      <td>2.5</td>\n",
       "      <td>37</td>\n",
       "      <td>1</td>\n",
       "      <td>{'OutdoorSeating': 'False', 'Alcohol': 'u'none...</td>\n",
       "      <td>Fast Food, Restaurants</td>\n",
       "      <td>None</td>\n",
       "      <td>US</td>\n",
       "    </tr>\n",
       "  </tbody>\n",
       "</table>\n",
       "</div>"
      ],
      "text/plain": [
       "              business_id                       name               address  \\\n",
       "0  Mmd5WDFq9hHcQ3uClngGjQ           Irene's Tap Room   1227 E Northern Ave   \n",
       "1  ZkzutF0P_u0C0yTulwaHkA           Lelulos Pizzeria   311 Unity Center Rd   \n",
       "2  7j0kor_fkeYhyEpXh4OpnQ  Scramblers - Strongsville        16726 Pearl Rd   \n",
       "3  j9bWpCRwpDVfwVT_V85qeA                Papaya Thai  2706 E University Dr   \n",
       "4  MTx-Zdl_KcU_z9G832XAjg                  Taco Bell     8033 N Durango Dr   \n",
       "\n",
       "           city state postal_code   latitude   longitude  stars  review_count  \\\n",
       "0       Phoenix    AZ       85020  33.552790 -112.055400    4.5            79   \n",
       "1          Plum    PA       15239  40.489996  -79.779288    4.0            31   \n",
       "2  Strongsville    OH       44136  41.295689  -81.835722    3.5            81   \n",
       "3          Mesa    AZ       85213  33.423705 -111.772890    2.5           130   \n",
       "4     Las Vegas    NV       89131  36.307495 -115.279059    2.5            37   \n",
       "\n",
       "   is_open                                         attributes  \\\n",
       "0        1  {'WiFi': 'u'free'', 'NoiseLevel': 'u'average''...   \n",
       "1        1  {'RestaurantsPriceRange2': '1', 'BusinessAccep...   \n",
       "2        1  {'BusinessAcceptsCreditCards': 'True', 'Ambien...   \n",
       "3        1  {'Caters': 'False', 'OutdoorSeating': 'False',...   \n",
       "4        1  {'OutdoorSeating': 'False', 'Alcohol': 'u'none...   \n",
       "\n",
       "                                          categories  \\\n",
       "0  Bars, Arts & Entertainment, Nightlife, Music V...   \n",
       "1                                 Restaurants, Pizza   \n",
       "2  Breakfast & Brunch, Restaurants, American (Tra...   \n",
       "3  Food, Ethnic Food, Specialty Food, Restaurants...   \n",
       "4                             Fast Food, Restaurants   \n",
       "\n",
       "                                               hours country  \n",
       "0  {'Monday': '0:0-0:0', 'Tuesday': '15:0-0:0', '...      US  \n",
       "1  {'Monday': '0:0-0:0', 'Tuesday': '11:0-21:0', ...      US  \n",
       "2  {'Monday': '6:30-15:0', 'Tuesday': '6:30-15:0'...      US  \n",
       "3  {'Monday': '11:0-21:0', 'Tuesday': '11:0-21:0'...      US  \n",
       "4                                               None      US  "
      ]
     },
     "execution_count": 44,
     "metadata": {},
     "output_type": "execute_result"
    }
   ],
   "source": [
    "business.head()"
   ]
  },
  {
   "cell_type": "code",
   "execution_count": 45,
   "metadata": {},
   "outputs": [],
   "source": [
    "random.seed(42)\n",
    "\n",
    "# number to subsample for businesses\n",
    "num_samples = 100\n",
    "sampling = random.sample(list(range(business.shape[0])), num_samples)\n",
    "\n",
    "collections_arr = []\n",
    "for idx, i in enumerate(sampling):\n",
    "    temp = {}\n",
    "    temp[\"id\"] = idx\n",
    "    for j, col_name in enumerate(list(business.columns)):\n",
    "        if col_name != 'attributes':\n",
    "            temp[col_name] = business.iloc[i, j]\n",
    "        else:\n",
    "            # replace u' and ' \n",
    "            dict_encoded = {k: str(v).replace(\"u'\", \"\").replace(\"'\", \"\") for k,v in business.iloc[i,j].items()}\n",
    "            temp[col_name] = dict_encoded\n",
    "    temp[\"photo\"] = \"http://blog.caesars.com/las-vegas/wp-content/uploads/2019/04/favorite-bistro-patio2-720x540.jpg\"\n",
    "    collections_arr.append(temp)\n",
    "\n",
    "business_json = {'business': collections_arr}"
   ]
  },
  {
   "cell_type": "code",
   "execution_count": 46,
   "metadata": {},
   "outputs": [],
   "source": [
    "# the selected businesses above\n",
    "business_filter = business.loc[sampling, 'business_id'].values"
   ]
  },
  {
   "cell_type": "code",
   "execution_count": 47,
   "metadata": {},
   "outputs": [],
   "source": [
    "# select ratings\n",
    "ratings_orig_final = ratings_orig[ratings_orig['business_id'].isin(business_filter)].copy()\n",
    "ratings_orig_final = ratings_orig_final.reset_index(drop = True)\n",
    "\n",
    "# subsample up to 30 ratings per restaurant\n",
    "subsample_index = []\n",
    "\n",
    "# set seed\n",
    "random.seed(42)\n",
    "\n",
    "# number to subsample from ratings\n",
    "num_samples = 10\n",
    "\n",
    "# subsample\n",
    "for elem in business_filter:\n",
    "    curr_rat_idx = list(ratings_orig_final[ratings_orig_final['business_id'] == elem].index)\n",
    "    if len(curr_rat_idx) < 10:\n",
    "        subsample_index.extend(curr_rat_idx)\n",
    "    else:\n",
    "        sampling = random.sample(curr_rat_idx, num_samples)\n",
    "        subsample_index.extend(sampling)\n",
    "        \n",
    "\n",
    "# select all the relevant ratings\n",
    "collections_arr = []\n",
    "for idx, i in enumerate(subsample_index):\n",
    "    temp = {}\n",
    "    temp[\"id\"] = idx\n",
    "    for j, col_name in enumerate(list(ratings_orig_final.columns)):\n",
    "        temp[col_name] = ratings_orig_final.iloc[i, j]\n",
    "    collections_arr.append(temp)\n",
    "\n",
    "ratings_json = {'ratings': collections_arr}"
   ]
  },
  {
   "cell_type": "code",
   "execution_count": 48,
   "metadata": {},
   "outputs": [],
   "source": [
    "# filter again ratings_orig_final\n",
    "ratings_orig_final = ratings_orig_final.loc[subsample_index, :]"
   ]
  },
  {
   "cell_type": "code",
   "execution_count": 51,
   "metadata": {},
   "outputs": [],
   "source": [
    "# filter users\n",
    "users_avail = np.unique(ratings_orig_final['user_id'])\n",
    "user = user_orig[user_orig['user_id'].isin(users_avail)]\n",
    "user = user.reset_index(drop = True)\n",
    "\n",
    "del user_orig\n",
    "\n",
    "# select all the relevant users\n",
    "collections_arr = []\n",
    "for idx, i in enumerate(range(user.shape[0])):\n",
    "    temp = {}\n",
    "    temp[\"id\"] = idx\n",
    "    for j, col_name in enumerate(list(user.columns)):\n",
    "        temp[col_name] = user.iloc[i, j]\n",
    "    temp[\"profile_pic\"] = \"https://bestnycacupuncturist.com/wp-content/uploads/2016/11/anonymous-avatar-sm.jpg\"\n",
    "    collections_arr.append(temp)\n",
    "\n",
    "users_json = {'users': collections_arr}"
   ]
  },
  {
   "cell_type": "code",
   "execution_count": 52,
   "metadata": {},
   "outputs": [
    {
     "name": "stdout",
     "output_type": "stream",
     "text": [
      "length busienss json:  100\n",
      "length ratings json:  1000\n",
      "length user json:  992\n"
     ]
    }
   ],
   "source": [
    "print('length busienss json: ', len(business_json['business']))\n",
    "print('length ratings json: ', len(ratings_json['ratings']))\n",
    "print('length user json: ', len(users_json['users']))"
   ]
  },
  {
   "cell_type": "code",
   "execution_count": 53,
   "metadata": {},
   "outputs": [],
   "source": [
    "# solve serlializable/encoding problem\n",
    "class NpEncoder(json.JSONEncoder):\n",
    "    def default(self, obj):\n",
    "        if isinstance(obj, np.integer):\n",
    "            return int(obj)\n",
    "        elif isinstance(obj, np.floating):\n",
    "            return float(obj)\n",
    "        elif isinstance(obj, np.ndarray):\n",
    "            return obj.tolist()\n",
    "        else:\n",
    "            return super(NpEncoder, self).default(obj)"
   ]
  },
  {
   "cell_type": "code",
   "execution_count": 54,
   "metadata": {},
   "outputs": [],
   "source": [
    "# write firebase data to json\n",
    "with open('dataset/business_firebase.json', 'w') as fp:\n",
    "    json.dump(business_json, fp, indent = 4, cls=NpEncoder)\n",
    "with open('dataset/ratings_firebase.json', 'w') as fp:\n",
    "    json.dump(ratings_json, fp, indent = 4, cls=NpEncoder)\n",
    "with open('dataset/users_firebase.json', 'w') as fp:\n",
    "    json.dump(users_json, fp, indent = 4, cls=NpEncoder)"
   ]
  },
  {
   "cell_type": "code",
   "execution_count": null,
   "metadata": {},
   "outputs": [],
   "source": []
  },
  {
   "cell_type": "code",
   "execution_count": null,
   "metadata": {},
   "outputs": [],
   "source": []
  }
 ],
 "metadata": {
  "kernelspec": {
   "display_name": "Python 3",
   "language": "python",
   "name": "python3"
  },
  "language_info": {
   "codemirror_mode": {
    "name": "ipython",
    "version": 3
   },
   "file_extension": ".py",
   "mimetype": "text/x-python",
   "name": "python",
   "nbconvert_exporter": "python",
   "pygments_lexer": "ipython3",
   "version": "3.7.6"
  }
 },
 "nbformat": 4,
 "nbformat_minor": 4
}
